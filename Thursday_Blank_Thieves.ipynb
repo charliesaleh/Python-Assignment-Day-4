{
 "cells": [
  {
   "cell_type": "markdown",
   "metadata": {},
   "source": [
    "# Object-Oriented-Programming (OOP)"
   ]
  },
  {
   "cell_type": "markdown",
   "metadata": {},
   "source": [
    "## Tasks Today:\n",
    "\n",
    "   \n",
    "\n",
    "1) <b>Creating a Class (Initializing/Declaring)</b> <br>\n",
    "2) <b>Using a Class (Instantiating)</b> <br>\n",
    " &nbsp;&nbsp;&nbsp;&nbsp; a) Creating One Instance <br>\n",
    " &nbsp;&nbsp;&nbsp;&nbsp; b) Creating Multiple Instances <br>\n",
    " &nbsp;&nbsp;&nbsp;&nbsp; c) In-Class Exercise #1 - Create a Class 'Car' and instantiate three different makes of cars <br>\n",
    "3) <b>The \\__init\\__() Method</b> <br>\n",
    " &nbsp;&nbsp;&nbsp;&nbsp; a) The 'self' Attribute <br>\n",
    "4) <b>Class Attributes</b> <br>\n",
    " &nbsp;&nbsp;&nbsp;&nbsp; a) Initializing Attributes <br>\n",
    " &nbsp;&nbsp;&nbsp;&nbsp; b) Setting an Attribute Outside of the \\__init\\__() Method <br>\n",
    " &nbsp;&nbsp;&nbsp;&nbsp; c) Setting Defaults for Attributes <br>\n",
    " &nbsp;&nbsp;&nbsp;&nbsp; d) Accessing Class Attributes <br>\n",
    " &nbsp;&nbsp;&nbsp;&nbsp; e) Changing Class Attributes <br>\n",
    " &nbsp;&nbsp;&nbsp;&nbsp; f) In-Class Exercise #2 - Add a color and wheels attribute to your 'Car' class <br>\n",
    "5) <b>Class Methods</b> <br>\n",
    " &nbsp;&nbsp;&nbsp;&nbsp; a) Creating <br>\n",
    " &nbsp;&nbsp;&nbsp;&nbsp; b) Calling <br>\n",
    " &nbsp;&nbsp;&nbsp;&nbsp; c) Modifying an Attribute's Value Through a Method <br>\n",
    " &nbsp;&nbsp;&nbsp;&nbsp; d) Incrementing an Attribute's Value Through a Method <br>\n",
    " &nbsp;&nbsp;&nbsp;&nbsp; e) In-Class Exercise #3 - Add a method that prints the cars color and wheel number, then call them <br>\n",
    "6) <b>Inheritance</b> <br>\n",
    " &nbsp;&nbsp;&nbsp;&nbsp; a) Syntax for Inheriting from a Parent Class <br>\n",
    " &nbsp;&nbsp;&nbsp;&nbsp; b) The \\__init\\__() Method for a Child Class (super()) <br>\n",
    " &nbsp;&nbsp;&nbsp;&nbsp; c) Defining Attributes and Methods for the Child Class <br>\n",
    " &nbsp;&nbsp;&nbsp;&nbsp; d) Method Overriding <br>\n",
    " &nbsp;&nbsp;&nbsp;&nbsp; e) In-Class Exercise #4 - Create a class 'Ford' that inherits from 'Car' class and initialize it as a Blue Ford Explorer with 4 wheels using the super() method <br>\n",
    "7) <b>Classes as Attributes</b> <br>\n",
    "8) <b>Exercises</b> <br>\n",
    " &nbsp;&nbsp;&nbsp;&nbsp; a) Exercise #1 - Turn the shopping cart program from yesterday into an object-oriented program <br>"
   ]
  },
  {
   "cell_type": "markdown",
   "metadata": {},
   "source": [
    "## Creating a Class (Initializing/Declaring)\n",
    "<p>When creating a class, function, or even a variable you are initializing that object. Initializing and Declaring occur at the same time in Python, whereas in lower level languages you have to declare an object before initializing it. This is the first step in the process of using a class.</p>"
   ]
  },
  {
   "cell_type": "code",
   "execution_count": 3,
   "metadata": {},
   "outputs": [],
   "source": [
    "class Car():\n",
    "    wheels = 4\n",
    "    color = 'blue'"
   ]
  },
  {
   "cell_type": "markdown",
   "metadata": {},
   "source": [
    "## Using a Class (Instantiating)\n",
    "<p>The process of creating a class is called <i>Instantiating</i>. Each time you create a variable of that type of class, it is referred to as an <i>Instance</i> of that class. This is the second step in the process of using a class.</p>"
   ]
  },
  {
   "cell_type": "markdown",
   "metadata": {},
   "source": [
    "##### Creating One Instance"
   ]
  },
  {
   "cell_type": "code",
   "execution_count": 4,
   "metadata": {},
   "outputs": [
    {
     "data": {
      "text/plain": [
       "'blue'"
      ]
     },
     "execution_count": 4,
     "metadata": {},
     "output_type": "execute_result"
    }
   ],
   "source": [
    "ford = Car()\n",
    "\n",
    "ford.wheels\n",
    "ford.color"
   ]
  },
  {
   "cell_type": "markdown",
   "metadata": {},
   "source": [
    "##### Creating Multiple Instances"
   ]
  },
  {
   "cell_type": "code",
   "execution_count": 6,
   "metadata": {},
   "outputs": [],
   "source": [
    "nissan = Car()\n",
    "chevy = Car()"
   ]
  },
  {
   "cell_type": "markdown",
   "metadata": {},
   "source": [
    "##### In-Class Exercise #1 - Create a Class 'Car' and Instantiate three different makes of cars"
   ]
  },
  {
   "cell_type": "code",
   "execution_count": 16,
   "metadata": {},
   "outputs": [
    {
     "data": {
      "text/plain": [
       "'black'"
      ]
     },
     "execution_count": 16,
     "metadata": {},
     "output_type": "execute_result"
    }
   ],
   "source": [
    "class Car():\n",
    "    wheels = 12\n",
    "    color = 'black'\n",
    "dodge = Car()\n",
    "jeep = Car()\n",
    "gmc = Car()\n",
    "\n",
    "dodge.wheels\n",
    "jeep.color"
   ]
  },
  {
   "cell_type": "markdown",
   "metadata": {},
   "source": [
    "## The \\__init\\__() Method <br>\n",
    "<p>This method is used in almost every created class, and called only once upon the creation of the class instance. This method will initialize all variables needed for the object.</p>"
   ]
  },
  {
   "cell_type": "code",
   "execution_count": 25,
   "metadata": {},
   "outputs": [
    {
     "data": {
      "text/plain": [
       "'ford'"
      ]
     },
     "execution_count": 25,
     "metadata": {},
     "output_type": "execute_result"
    }
   ],
   "source": [
    "class Car():\n",
    "    wheels = 4 # Class attribute\n",
    "    def __init__(self, make, model, color): # Instance attributes\n",
    "        self.make = make\n",
    "        self.model = model\n",
    "        self.color = color\n",
    "\n",
    "nissan = Car('nissan', '370z', 'black')\n",
    "nissan.make\n",
    "nissan.model\n",
    "nissan.color\n",
    "nissan.wheels\n",
    "\n",
    "ford = Car('ford', 'mustang', 'black')\n",
    "ford.make"
   ]
  },
  {
   "cell_type": "markdown",
   "metadata": {},
   "source": [
    "##### The 'self' Attribute <br>\n",
    "<p>This attribute is required to keep track of specific instance's attributes. Without the self attribute, the program would not know how to reference or keep track of an instance's attributes.</p>"
   ]
  },
  {
   "cell_type": "code",
   "execution_count": null,
   "metadata": {},
   "outputs": [],
   "source": [
    "# see above"
   ]
  },
  {
   "cell_type": "markdown",
   "metadata": {},
   "source": [
    "## Class Attributes <br>\n",
    "<p>While variables are inside of a class, they are referred to as attributes and not variables. When someone says 'attribute' you know they're speaking about a class. Attributes can be initialized through the init method, or outside of it.</p>"
   ]
  },
  {
   "cell_type": "markdown",
   "metadata": {},
   "source": [
    "##### Initializing Attributes"
   ]
  },
  {
   "cell_type": "code",
   "execution_count": null,
   "metadata": {},
   "outputs": [],
   "source": [
    "# see above"
   ]
  },
  {
   "cell_type": "markdown",
   "metadata": {},
   "source": [
    "##### Accessing Class Attributes"
   ]
  },
  {
   "cell_type": "code",
   "execution_count": null,
   "metadata": {
    "scrolled": true
   },
   "outputs": [],
   "source": [
    "# See Above"
   ]
  },
  {
   "cell_type": "markdown",
   "metadata": {},
   "source": [
    "##### Setting Defaults for Attributes"
   ]
  },
  {
   "cell_type": "code",
   "execution_count": 36,
   "metadata": {},
   "outputs": [
    {
     "data": {
      "text/plain": [
       "{'city': 'LA',\n",
       " 'team_name': 'Eagles',\n",
       " 'jersey_color': 'Green',\n",
       " 'country': 'america'}"
      ]
     },
     "execution_count": 36,
     "metadata": {},
     "output_type": "execute_result"
    }
   ],
   "source": [
    "class NflTeams():\n",
    "    def __init__(self,city, team_name, jersey_color, country='america'):\n",
    "        self.city = city\n",
    "        self.team_name = team_name\n",
    "        self.jersey_color = jersey_color\n",
    "        self.country = country\n",
    "\n",
    "    def printInfo(self):\n",
    "        return f'The city {self.city} has the NFL team {self.team_name} and their jersey color is {self.jersey_color}'\n",
    "\n",
    "eagles = NflTeams('Philly', 'Eagles', 'Green')\n",
    "eagles.printInfo()\n",
    "eagles.country\n",
    "eagles.__dict__\n",
    "eagles.city = 'LA'\n",
    "eagles.city\n",
    "eagles.__dict__\n"
   ]
  },
  {
   "attachments": {},
   "cell_type": "markdown",
   "metadata": {},
   "source": [
    "##### Changing Instance Attributes <br>\n",
    "<p>Keep in mind there are global class attributes and then there are attributes only available to each class instance which won't effect other classes.</p>"
   ]
  },
  {
   "cell_type": "code",
   "execution_count": null,
   "metadata": {},
   "outputs": [],
   "source": [
    "# see above"
   ]
  },
  {
   "cell_type": "markdown",
   "metadata": {},
   "source": [
    "##### In-Class Exercise #2 - Add a doors and seats attribute to your 'Car' class then print out two different instances with different doors and seats"
   ]
  },
  {
   "cell_type": "code",
   "execution_count": 40,
   "metadata": {},
   "outputs": [
    {
     "data": {
      "text/plain": [
       "'My Dodge is a Durango and has a total number of 300 seats'"
      ]
     },
     "execution_count": 40,
     "metadata": {},
     "output_type": "execute_result"
    }
   ],
   "source": [
    "class Car():\n",
    "    def __init__(self, make, model, color, wheels, seats):\n",
    "        self.make = make\n",
    "        self.model = model\n",
    "        self.color = color\n",
    "        self.wheels = wheels\n",
    "        self.seats = seats\n",
    "\n",
    "    def printInfo(self):\n",
    "        return f'My {dodge.make} is a {dodge.model} and has a total number of {dodge.seats} seats'        \n",
    "\n",
    "dodge = Car('Dodge', 'Durango', 'Black', '12', '300')\n",
    "dodge.seats\n",
    "dodge.color\n",
    "dodge.printInfo()\n"
   ]
  },
  {
   "cell_type": "markdown",
   "metadata": {},
   "source": [
    "## Class Methods <br>\n",
    "<p>While inside of a class, functions are referred to as 'methods'. If you hear someone mention methods, they're speaking about classes. Methods are essentially functions, but only callable on the instances of a class.</p>"
   ]
  },
  {
   "cell_type": "code",
   "execution_count": 57,
   "metadata": {},
   "outputs": [
    {
     "name": "stdout",
     "output_type": "stream",
     "text": [
      "kobe has been added to the LA Lakers\n",
      "Your current roster is {'kobe': 8}\n",
      "You currently have 1 players on your team!\n",
      "---------- Current Roster for the LA Lakers ----------\n",
      "kobe 8\n",
      "kobe has been removed from your team\n",
      "Your current roaster is {}\n",
      "You currently have 0 players on your team!\n",
      "---------- Current Roster for the LA Lakers ----------\n",
      "Good luck this season!\n"
     ]
    }
   ],
   "source": [
    "class Roster():\n",
    "    def __init__(self, city, team_name , country = \"United States\"):\n",
    "        self.city = city\n",
    "        self.team_name = team_name\n",
    "        self.country = country\n",
    "        self.depth_chart = {}\n",
    "        self.number_of_players = 0\n",
    "     \n",
    "    # add a player\n",
    "    def addPlayer(self):\n",
    "        name = input('What is a player\\'s name that you would like to add? ')\n",
    "        number = int(input(f'What jersey number will {name} have? '))\n",
    "        self.depth_chart[name] = number\n",
    "        self.number_of_players += 1\n",
    "        print(f'{name} has been added to the {self.city} {self.team_name}')\n",
    "        print(f'Your current roster is {self.depth_chart}')\n",
    "\n",
    "    # delete a player\n",
    "    def deletePlayer(self):\n",
    "        name = input('What player would you like to delete? ')\n",
    "        if name in self.depth_chart:\n",
    "            print(f'{name} has been removed from your team')\n",
    "            del self.depth_chart[name]\n",
    "            self.number_of_players -= 1\n",
    "            print(f'Your current roaster is {self.depth_chart}')\n",
    "        else:\n",
    "            print(f'{name} is not on your team!')\n",
    "\n",
    "    # show a player\n",
    "    def showPlayers(self):\n",
    "        print(f'You currently have {self.number_of_players} players on your team!')\n",
    "        print(f'---------- Current Roster for the {self.city} {self.team_name} ----------')\n",
    "        for key,value in self.depth_chart.items():\n",
    "            print(key,value)\n",
    "\n",
    "    # runner method\n",
    "    def runner(self):\n",
    "        while True:\n",
    "            user_choice = input('What would you like to do? (add, show, delete) (type \"q\" to quit)')\n",
    "            if user_choice == 'q':\n",
    "                self.showPlayers()\n",
    "                print('Good luck this season!')\n",
    "                break\n",
    "            elif user_choice == 'add':\n",
    "                self.addPlayer()\n",
    "            elif user_choice == 'show':\n",
    "                self.showPlayers()\n",
    "            elif user_choice == 'delete':\n",
    "                self.deletePlayer()\n",
    "            else:\n",
    "                print('Invalid option, please choose a valid option.')\n",
    "\n",
    "team1 = Roster('LA', 'Lakers')\n",
    "team1.runner()\n",
    "# team1.addPlayer()\n",
    "# team1.addPlayer()\n",
    "# team1.addPlayer()\n",
    "# team1.deletePlayer()\n",
    "# team1.showPlayers()"
   ]
  },
  {
   "cell_type": "markdown",
   "metadata": {},
   "source": [
    "##### Creating"
   ]
  },
  {
   "cell_type": "markdown",
   "metadata": {},
   "source": [
    "##### Calling"
   ]
  },
  {
   "cell_type": "code",
   "execution_count": null,
   "metadata": {},
   "outputs": [],
   "source": [
    "# See Above"
   ]
  },
  {
   "cell_type": "markdown",
   "metadata": {},
   "source": [
    "##### Modifying an Attribute's Value Through a Method"
   ]
  },
  {
   "cell_type": "code",
   "execution_count": null,
   "metadata": {},
   "outputs": [],
   "source": [
    "# see above\n",
    "# modifying the self.depth_chart attribute"
   ]
  },
  {
   "cell_type": "markdown",
   "metadata": {},
   "source": [
    "##### Incrementing an Attribute's Value Through a Method"
   ]
  },
  {
   "cell_type": "code",
   "execution_count": null,
   "metadata": {},
   "outputs": [],
   "source": [
    "# see above\n",
    "# incrementing the self.number_of_players attribute"
   ]
  },
  {
   "cell_type": "markdown",
   "metadata": {},
   "source": [
    "## Inheritance <br>\n",
    "<p>You can create a child-parent relationship between two classes by using inheritance. What this allows you to do is have overriding methods, but also inherit traits from the parent class. Think of it as an actual parent and child, the child will inherit the parent's genes, as will the classes in OOP</p>"
   ]
  },
  {
   "cell_type": "markdown",
   "metadata": {},
   "source": [
    "##### Syntax for Inheriting from a Parent Class"
   ]
  },
  {
   "cell_type": "code",
   "execution_count": 60,
   "metadata": {},
   "outputs": [
    {
     "data": {
      "text/plain": [
       "'this is coming from the parent class'"
      ]
     },
     "execution_count": 60,
     "metadata": {},
     "output_type": "execute_result"
    }
   ],
   "source": [
    "class Animal(): # parent class\n",
    "    def __init__(self, name, species, legs=4):\n",
    "        self.name = name\n",
    "        self.species = species\n",
    "        self.legs = legs\n",
    "    \n",
    "    def printInfo(self):\n",
    "        return 'this is coming from the parent class'\n",
    "    \n",
    "class Dog(Animal): # child class\n",
    "    def __init__(self, name, dog_type, size, legs=4):\n",
    "        super().__init__(name, legs)\n",
    "        self.dog_type = dog_type\n",
    "        self.size = size\n",
    "    \n",
    "    def printInfoChild(self):\n",
    "        return f'This is a {self.size} sized {self.dog_type} with {self.legs} and its name is {self.name}'\n",
    "    \n",
    "dylans_dog = Dog('Rhiannon', 'blue-nose pitbull', 'big')\n",
    "dylans_dog.printInfoChild()\n",
    "dylans_dog.printInfo()"
   ]
  },
  {
   "cell_type": "markdown",
   "metadata": {},
   "source": [
    "##### The \\__init\\__() Method for a Child Class - super()"
   ]
  },
  {
   "cell_type": "code",
   "execution_count": null,
   "metadata": {
    "scrolled": true
   },
   "outputs": [],
   "source": [
    "# see above"
   ]
  },
  {
   "cell_type": "markdown",
   "metadata": {},
   "source": [
    "##### Defining Attributes and Methods for the Child Class"
   ]
  },
  {
   "cell_type": "code",
   "execution_count": null,
   "metadata": {},
   "outputs": [],
   "source": [
    "# See Above"
   ]
  },
  {
   "cell_type": "markdown",
   "metadata": {},
   "source": [
    "## Classes as Attributes <br>\n",
    "<p>Classes can also be used as attributes within another class. This is useful in situations where you need to keep variables locally stored, instead of globally stored.</p>"
   ]
  },
  {
   "cell_type": "code",
   "execution_count": 63,
   "metadata": {},
   "outputs": [
    {
     "data": {
      "text/plain": [
       "'This is a 2023 toyota tacoma'"
      ]
     },
     "execution_count": 63,
     "metadata": {},
     "output_type": "execute_result"
    }
   ],
   "source": [
    "class Engine(): #parent class\n",
    "    def __init__(self, engine):\n",
    "        self.engine = engine\n",
    "class Car(Engine):\n",
    "    def __init__(self, engine, make , model, year):\n",
    "        super().__init__(engine)\n",
    "        self.make = make\n",
    "        self.model = model\n",
    "        self.year = year\n",
    "    def printInfo(self):\n",
    "        return f'This is a {self.year} {self.make} {self.model}'\n",
    "    \n",
    "v8_engine = Engine('V8')\n",
    "v6_engine = Engine('V6')\n",
    "\n",
    "masons_car = Car(v6_engine.engine, 'toyota', 'tacoma', 2023)\n",
    "kaylas_car = Car(v6_engine.engine, 'toyota', 'frontier', 2023)\n",
    "dylans_car = Car(v8_engine.engine, 'ford', 'bronco', 1965)\n",
    "\n",
    "masons_car.printInfo()"
   ]
  },
  {
   "cell_type": "markdown",
   "metadata": {},
   "source": [
    "# Exercises"
   ]
  },
  {
   "cell_type": "markdown",
   "metadata": {},
   "source": [
    "### Exercise 1 - Turn the shopping cart program from yesterday into an object-oriented program\n",
    "\n",
    "The comments in the cell below are there as a guide for thinking about the problem. However, if you feel a different way is best for you and your own thought process, please do what feels best for you by all means."
   ]
  },
  {
   "cell_type": "code",
   "execution_count": 6,
   "metadata": {},
   "outputs": [
    {
     "name": "stdout",
     "output_type": "stream",
     "text": [
      "A5 Wagyu Steak has been added to your shopping cart.\n",
      "Your shopping cart contains of {'A5 Wagyu Steak': 20}\n",
      "Salmon has been added to your shopping cart.\n",
      "Your shopping cart contains of {'A5 Wagyu Steak': 20, 'Salmon': 10}\n",
      "Chicken has been added to your shopping cart.\n",
      "Your shopping cart contains of {'A5 Wagyu Steak': 20, 'Salmon': 10, 'Chicken': 5}\n",
      "You currently have 3 players on your cart!\n",
      "---------- Current items on your Shopping Cart ----------\n",
      "A5 Wagyu Steak 20\n",
      "Salmon 10\n",
      "Chicken 5\n",
      "Chicken has been removed from your shopping cart\n",
      "Your current items in your shopping cart are {'A5 Wagyu Steak': 20, 'Salmon': 10}\n",
      "You currently have 2 players on your cart!\n",
      "---------- Current items on your Shopping Cart ----------\n",
      "A5 Wagyu Steak 20\n",
      "Salmon 10\n",
      "These items are in your shopping cart!\n"
     ]
    }
   ],
   "source": [
    "# Create a class called cart that retains items and has methods to add, remove, and show\n",
    "\n",
    "class Cart():\n",
    "    def __init__(self, cart, items):\n",
    "        self.cart = cart\n",
    "        self.items = items\n",
    "        self.shopping_cart = {}\n",
    "        self.number_of_items = 0\n",
    "    \n",
    "    def addItems(self):\n",
    "        item_name = input(\"What do you want to add to your shopping cart?: \")\n",
    "        item_quantity = int(input(\"Enter the quantity of the item you want to add.: \"))\n",
    "        self.shopping_cart[item_name] = item_quantity\n",
    "        self.number_of_items += 1\n",
    "        print(f\"{item_name} has been added to your shopping cart.\")\n",
    "        print(f\"Your shopping cart contains of {self.shopping_cart}\")\n",
    "\n",
    "    def deleteItems(self):\n",
    "        item_name = input(\"What do you want to delete from your shopping cart?: \")\n",
    "        if item_name in self.shopping_cart:\n",
    "            print(f\"{item_name} has been removed from your shopping cart\")\n",
    "            del self.shopping_cart[item_name]\n",
    "            self.number_of_items -= 1\n",
    "            print(f\"Your current items in your shopping cart are {self.shopping_cart}\")\n",
    "        else:\n",
    "            print(f'{item_name} is not in your cart!')\n",
    "\n",
    "    def showItems(self):\n",
    "        print(f\"You currently have {self.number_of_items} players on your cart!\")\n",
    "        print(f\"---------- Current items on your Shopping {self.cart} ----------\")\n",
    "        for key,value in self.shopping_cart.items():\n",
    "            print(key,value)\n",
    "    \n",
    "    def loop(self):\n",
    "        while True:\n",
    "            user_choice = input(\"Please enter your choice (1. Add item), (2. Delete item), (3. View shopping cart), (4. Quit): \")\n",
    "            if user_choice == \"4\":\n",
    "                self.showItems()\n",
    "                print(\"These items are in your shopping cart!\")\n",
    "                break\n",
    "            elif user_choice == \"1\":\n",
    "                self.addItems()\n",
    "            elif user_choice == \"3\":\n",
    "                self.showItems()\n",
    "            elif user_choice == \"2\":\n",
    "                self.deleteItems()\n",
    "            else:\n",
    "                print(\"Invalid option, please choose a valid option.\")\n",
    "cart1 = Cart(\"Cart\", \"Items\")\n",
    "cart1.loop()"
   ]
  },
  {
   "cell_type": "markdown",
   "metadata": {},
   "source": [
    "### Exercise 2 - Write a Python class which has two methods get_String and print_String. get_String accept a string from the user and print_String print the string in upper case"
   ]
  },
  {
   "cell_type": "code",
   "execution_count": 11,
   "metadata": {},
   "outputs": [
    {
     "name": "stdout",
     "output_type": "stream",
     "text": [
      "CHARLIE SALEH\n"
     ]
    }
   ],
   "source": [
    "class String():\n",
    "    def __init__(self):\n",
    "        self.str = \"\"\n",
    "\n",
    "    def get_String(self):\n",
    "        self.str = input()\n",
    "\n",
    "    def print_String(self):\n",
    "        print(self.str.upper())\n",
    "\n",
    "str = String()\n",
    "str.get_String()\n",
    "str.print_String()"
   ]
  }
 ],
 "metadata": {
  "kernelspec": {
   "display_name": "Python 3",
   "language": "python",
   "name": "python3"
  },
  "language_info": {
   "codemirror_mode": {
    "name": "ipython",
    "version": 3
   },
   "file_extension": ".py",
   "mimetype": "text/x-python",
   "name": "python",
   "nbconvert_exporter": "python",
   "pygments_lexer": "ipython3",
   "version": "3.10.10"
  },
  "vscode": {
   "interpreter": {
    "hash": "efd71c79c7a8ed7e2e6ea7880ca39791cb24c303d26270a10635bc4d8604a30a"
   }
  }
 },
 "nbformat": 4,
 "nbformat_minor": 2
}
